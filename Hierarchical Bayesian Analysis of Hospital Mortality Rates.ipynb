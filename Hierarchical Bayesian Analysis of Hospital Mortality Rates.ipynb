{
 "cells": [
  {
   "cell_type": "code",
   "execution_count": 10,
   "id": "e7c201f0",
   "metadata": {},
   "outputs": [],
   "source": [
    "import pymc as pm\n",
    "import numpy as np\n",
    "import pandas as pd"
   ]
  },
  {
   "cell_type": "code",
   "execution_count": 4,
   "id": "2903058d",
   "metadata": {},
   "outputs": [],
   "source": [
    "# Data for the 12 hospitals\n",
    "y_i = np.array([0, 8, 18, 46, 8, 13, 9, 31, 14, 8, 29, 24])  # Deaths\n",
    "n_i = np.array([47, 148, 119, 810, 211, 196, 148, 215, 207, 97, 256, 360])  # Surgeries"
   ]
  },
  {
   "cell_type": "code",
   "execution_count": 12,
   "id": "2f77cb41",
   "metadata": {},
   "outputs": [
    {
     "name": "stdout",
     "output_type": "stream",
     "text": [
      "    Hospital  Deaths  Surgeries  Mortality Rate\n",
      "0          1       0         47        0.000000\n",
      "1          2       8        148        0.054054\n",
      "2          3      18        119        0.151261\n",
      "3          4      46        810        0.056790\n",
      "4          5       8        211        0.037915\n",
      "5          6      13        196        0.066327\n",
      "6          7       9        148        0.060811\n",
      "7          8      31        215        0.144186\n",
      "8          9      14        207        0.067633\n",
      "9         10       8         97        0.082474\n",
      "10        11      29        256        0.113281\n",
      "11        12      24        360        0.066667\n"
     ]
    }
   ],
   "source": [
    "# Calculate mortality rate for each hospital\n",
    "mortality_rate = deaths / surgeries\n",
    "\n",
    "# Create a DataFrame\n",
    "hospital_data = pd.DataFrame({\n",
    "    'Hospital': range(1, 13),\n",
    "    'Deaths': deaths,\n",
    "    'Surgeries': surgeries,\n",
    "    'Mortality Rate': mortality_rate\n",
    "})\n",
    "\n",
    "# Display the DataFrame\n",
    "print(hospital_data)"
   ]
  },
  {
   "cell_type": "code",
   "execution_count": 5,
   "id": "5fad7230",
   "metadata": {},
   "outputs": [
    {
     "name": "stderr",
     "output_type": "stream",
     "text": [
      "Auto-assigning NUTS sampler...\n",
      "Initializing NUTS using jitter+adapt_diag...\n",
      "Multiprocess sampling (4 chains in 4 jobs)\n",
      "NUTS: [a, b, theta]\n"
     ]
    },
    {
     "data": {
      "text/html": [
       "\n",
       "<style>\n",
       "    /* Turns off some styling */\n",
       "    progress {\n",
       "        /* gets rid of default border in Firefox and Opera. */\n",
       "        border: none;\n",
       "        /* Needs to be in here for Safari polyfill so background images work as expected. */\n",
       "        background-size: auto;\n",
       "    }\n",
       "    progress:not([value]), progress:not([value])::-webkit-progress-bar {\n",
       "        background: repeating-linear-gradient(45deg, #7e7e7e, #7e7e7e 10px, #5c5c5c 10px, #5c5c5c 20px);\n",
       "    }\n",
       "    .progress-bar-interrupted, .progress-bar-interrupted::-webkit-progress-bar {\n",
       "        background: #F44336;\n",
       "    }\n",
       "</style>\n"
      ],
      "text/plain": [
       "<IPython.core.display.HTML object>"
      ]
     },
     "metadata": {},
     "output_type": "display_data"
    },
    {
     "data": {
      "text/html": [
       "\n",
       "    <div>\n",
       "      <progress value='12000' class='' max='12000' style='width:300px; height:20px; vertical-align: middle;'></progress>\n",
       "      100.00% [12000/12000 01:52&lt;00:00 Sampling 4 chains, 0 divergences]\n",
       "    </div>\n",
       "    "
      ],
      "text/plain": [
       "<IPython.core.display.HTML object>"
      ]
     },
     "metadata": {},
     "output_type": "display_data"
    },
    {
     "name": "stderr",
     "output_type": "stream",
     "text": [
      "Sampling 4 chains for 1_000 tune and 2_000 draw iterations (4_000 + 8_000 draws total) took 140 seconds.\n"
     ]
    }
   ],
   "source": [
    "# Define the model\n",
    "with pm.Model() as model:\n",
    "    # Hyperprior for a and b of the Beta distribution\n",
    "    a = pm.Gamma('a', alpha=2, beta=1)\n",
    "    b = pm.Gamma('b', alpha=2, beta=1)\n",
    "    \n",
    "    # Theta for each hospital, with a shared prior\n",
    "    theta = pm.Beta('theta', alpha=a, beta=b, shape=len(y_i))\n",
    "    \n",
    "    # Likelihood of the observed data\n",
    "    y = pm.Binomial('y', n=n_i, p=theta, observed=y_i)\n",
    "    \n",
    "    # Inference\n",
    "    trace = pm.sample(2000, tune=1000, return_inferencedata=True)\n"
   ]
  },
  {
   "cell_type": "code",
   "execution_count": 6,
   "id": "8fb163cf",
   "metadata": {
    "scrolled": true
   },
   "outputs": [
    {
     "name": "stdout",
     "output_type": "stream",
     "text": [
      "            mean     sd  hdi_3%  hdi_97%  mcse_mean  mcse_sd  ess_bulk  \\\n",
      "a          0.890  0.286   0.410    1.446      0.004    0.003    5606.0   \n",
      "b          6.440  2.392   2.315   10.885      0.028    0.020    7211.0   \n",
      "theta[0]   0.016  0.017   0.000    0.047      0.000    0.000    6541.0   \n",
      "theta[1]   0.057  0.019   0.024    0.092      0.000    0.000   11778.0   \n",
      "theta[2]   0.149  0.032   0.093    0.210      0.000    0.000   11513.0   \n",
      "theta[3]   0.057  0.008   0.042    0.073      0.000    0.000   13908.0   \n",
      "theta[4]   0.041  0.013   0.017    0.065      0.000    0.000   13496.0   \n",
      "theta[5]   0.068  0.018   0.036    0.102      0.000    0.000   13693.0   \n",
      "theta[6]   0.064  0.020   0.031    0.102      0.000    0.000   12274.0   \n",
      "theta[7]   0.143  0.023   0.101    0.188      0.000    0.000   12250.0   \n",
      "theta[8]   0.070  0.017   0.039    0.101      0.000    0.000   12447.0   \n",
      "theta[9]   0.085  0.027   0.036    0.136      0.000    0.000   11289.0   \n",
      "theta[10]  0.114  0.020   0.078    0.150      0.000    0.000   12505.0   \n",
      "theta[11]  0.068  0.013   0.043    0.093      0.000    0.000   11688.0   \n",
      "\n",
      "           ess_tail  r_hat  \n",
      "a            5885.0    1.0  \n",
      "b            6117.0    1.0  \n",
      "theta[0]     3580.0    1.0  \n",
      "theta[1]     5606.0    1.0  \n",
      "theta[2]     5731.0    1.0  \n",
      "theta[3]     5663.0    1.0  \n",
      "theta[4]     6135.0    1.0  \n",
      "theta[5]     5663.0    1.0  \n",
      "theta[6]     5624.0    1.0  \n",
      "theta[7]     5054.0    1.0  \n",
      "theta[8]     5912.0    1.0  \n",
      "theta[9]     5331.0    1.0  \n",
      "theta[10]    5370.0    1.0  \n",
      "theta[11]    5749.0    1.0  \n"
     ]
    }
   ],
   "source": [
    "# Summary of the posterior\n",
    "summary = pm.summary(trace)\n",
    "print(summary)"
   ]
  },
  {
   "cell_type": "code",
   "execution_count": 7,
   "id": "b3614e1c",
   "metadata": {},
   "outputs": [
    {
     "name": "stdout",
     "output_type": "stream",
     "text": [
      "Hospital A - Theta estimate: <xarray.DataArray 'theta' ()>\n",
      "array(0.01611139)\n",
      "Coordinates:\n",
      "    theta_dim_0  int32 0\n",
      "Hospital H - Theta estimate: <xarray.DataArray 'theta' ()>\n",
      "array(0.14326433)\n",
      "Coordinates:\n",
      "    theta_dim_0  int32 7\n"
     ]
    }
   ],
   "source": [
    "# To specifically look at the estimates for hospitals A and H\n",
    "print(\"Hospital A - Theta estimate:\", np.mean(trace.posterior['theta'][:, :, 0]))\n",
    "print(\"Hospital H - Theta estimate:\", np.mean(trace.posterior['theta'][:, :, 7]))"
   ]
  }
 ],
 "metadata": {
  "kernelspec": {
   "display_name": "Python 3 (ipykernel)",
   "language": "python",
   "name": "python3"
  },
  "language_info": {
   "codemirror_mode": {
    "name": "ipython",
    "version": 3
   },
   "file_extension": ".py",
   "mimetype": "text/x-python",
   "name": "python",
   "nbconvert_exporter": "python",
   "pygments_lexer": "ipython3",
   "version": "3.11.0"
  }
 },
 "nbformat": 4,
 "nbformat_minor": 5
}
